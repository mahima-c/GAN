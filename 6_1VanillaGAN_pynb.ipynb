{
  "nbformat": 4,
  "nbformat_minor": 0,
  "metadata": {
    "colab": {
      "name": "6.1VanillaGAN.pynb",
      "provenance": [],
      "authorship_tag": "ABX9TyO7PcFvaCatg0KebdtEoxhk",
      "include_colab_link": true
    },
    "kernelspec": {
      "name": "python3",
      "display_name": "Python 3"
    },
    "accelerator": "GPU"
  },
  "cells": [
    {
      "cell_type": "markdown",
      "metadata": {
        "id": "view-in-github",
        "colab_type": "text"
      },
      "source": [
        "<a href=\"https://colab.research.google.com/github/mahima-c/GAN-Generative-Adversarial-Networks/blob/main/6_1VanillaGAN_pynb.ipynb\" target=\"_parent\"><img src=\"https://colab.research.google.com/assets/colab-badge.svg\" alt=\"Open In Colab\"/></a>"
      ]
    },
    {
      "cell_type": "markdown",
      "metadata": {
        "id": "9-R7yhwRn2bs"
      },
      "source": [
        "MNIST using GAN in TensorFlow\r\n"
      ]
    },
    {
      "cell_type": "markdown",
      "metadata": {
        "id": "OTbCskmZn6IG"
      },
      "source": [
        "Let us build a simple GAN capable of generating handwritten digits. We will use the MNIST handwritten digits to train the network. We use the TensorFlow Keras dataset to access the MNIST data. The data contains 60,000 training images of handwritten digits each of size 28 × 28. The pixel value of the digits lies between 0-255; we normalize the input values such that each pixel has a value in range [-1, 1]:"
      ]
    },
    {
      "cell_type": "code",
      "metadata": {
        "id": "ax44T9FFoAs3",
        "colab": {
          "base_uri": "https://localhost:8080/"
        },
        "outputId": "2bea066b-27ab-4928-9b9e-dafd7f3bc108"
      },
      "source": [
        "import tensorflow as tf\r\n",
        "import numpy as np\r\n",
        "\r\n",
        "from tensorflow.keras.datasets import mnist\r\n",
        "from tensorflow.keras.layers import Input, Dense, Reshape, Flatten, Dropout\r\n",
        "from tensorflow.keras.layers import BatchNormalization, Activation, ZeroPadding2D\r\n",
        "from tensorflow.keras.layers import LeakyReLU\r\n",
        "from tensorflow.keras.layers import UpSampling2D, Conv2D\r\n",
        "from tensorflow.keras.models import Sequential, Model\r\n",
        "from tensorflow.keras.optimizers import Adam\r\n",
        "from tensorflow.keras import initializers\r\n",
        "\r\n",
        "\r\n",
        "import matplotlib.pyplot as plt\r\n",
        "\r\n",
        "import sys\r\n",
        "\r\n",
        "import numpy as np\r\n",
        "import tqdm\r\n",
        "mnist = tf.keras.datasets.mnist\r\n",
        "\r\n",
        "(X_train, _), (_,  _) = mnist.load_data()\r\n",
        "X_train = (X_train.astype(np.float32) - 127.5)/127.5\r\n",
        "X_train = X_train.reshape(60000, 784)\r\n"
      ],
      "execution_count": null,
      "outputs": [
        {
          "output_type": "stream",
          "text": [
            "Downloading data from https://storage.googleapis.com/tensorflow/tf-keras-datasets/mnist.npz\n",
            "11493376/11490434 [==============================] - 0s 0us/step\n"
          ],
          "name": "stdout"
        }
      ]
    },
    {
      "cell_type": "markdown",
      "metadata": {
        "id": "btpGGbnYoBQJ"
      },
      "source": [
        "We will use a simple multi-layered perceptron (MLP) and we will feed it an image as a flat vector of size 784, so we reshape the training data:"
      ]
    },
    {
      "cell_type": "code",
      "metadata": {
        "id": "F7VJawevoEUx"
      },
      "source": [
        "X_train = X_train.reshape(60000, 784)\r\n"
      ],
      "execution_count": null,
      "outputs": []
    },
    {
      "cell_type": "markdown",
      "metadata": {
        "id": "nHGrb0aqn6LN"
      },
      "source": [
        "Now we will need to build a generator and discriminator. The purpose of the generator is to take in a noisy input and generate an image similar to the training dataset. The size of the noisy input is decided by the variable randomDim; you can initialize it to any integral value. Conventionally people set it to 100. For our implementation we tried a value of 10. This input is fed to a Dense layer with 256 neurons with LeakyReLU activation. We next add another Dense layer with 512 hidden neurons, followed by the third hidden layer with 1024 neurons and finally the output layer with 784 neurons. You can change the number of neurons in the hidden layers and see how the performance changes; however, the number of neurons in the output unit has to match the number of pixels in the training images. The corresponding generator is then:"
      ]
    },
    {
      "cell_type": "code",
      "metadata": {
        "id": "tT_wEo2DoQEx"
      },
      "source": [
        "randomDim=10\r\n",
        "adam = Adam(lr=0.0002, beta_1=0.5)\r\n",
        "\r\n",
        "\r\n",
        "generator = Sequential()\r\n",
        "generator.add(Dense(256, input_dim=randomDim))\r\n",
        "generator.add(LeakyReLU(0.2))\r\n",
        "generator.add(Dense(512))\r\n",
        "generator.add(LeakyReLU(0.2))\r\n",
        "generator.add(Dense(1024))\r\n",
        "generator.add(LeakyReLU(0.2))\r\n",
        "generator.add(Dense(784, activation='tanh'))"
      ],
      "execution_count": null,
      "outputs": []
    },
    {
      "cell_type": "markdown",
      "metadata": {
        "id": "e8zOG1C9n6Pa"
      },
      "source": [
        "Similarly, we build a discriminator. Notice now that the discriminator takes in the images, either from the training set or images generated by generator, thus its input size is 784. The output of the discriminator however is a single bit, with 0 signifying a fake image (generated by generator) and 1 signifying that the image is from the training dataset:"
      ]
    },
    {
      "cell_type": "code",
      "metadata": {
        "id": "hCHv34gHoNyi"
      },
      "source": [
        "discriminator = Sequential()\r\n",
        "discriminator.add(Dense(1024, input_dim=784, kernel_initializer=initializers.RandomNormal(stddev=0.02)))\r\n",
        "discriminator.add(LeakyReLU(0.2))\r\n",
        "discriminator.add(Dropout(0.3))\r\n",
        "discriminator.add(Dense(512))\r\n",
        "discriminator.add(LeakyReLU(0.2))\r\n",
        "discriminator.add(Dropout(0.3))\r\n",
        "discriminator.add(Dense(256))\r\n",
        "discriminator.add(LeakyReLU(0.2))\r\n",
        "discriminator.add(Dropout(0.3))\r\n",
        "discriminator.add(Dense(1, activation='sigmoid'))\r\n",
        "\r\n",
        "discriminator.compile(loss='binary_crossentropy', optimizer=adam)"
      ],
      "execution_count": null,
      "outputs": []
    },
    {
      "cell_type": "markdown",
      "metadata": {
        "id": "PTxN6HUNoexk"
      },
      "source": [
        "Next, we combine the generator and discriminator together to form a GAN. In the GAN we ensure that the discriminator weights are fixed by setting the trainable argument to False:"
      ]
    },
    {
      "cell_type": "code",
      "metadata": {
        "id": "_XeztPD5ofL7"
      },
      "source": [
        "# Combined network\r\n",
        "discriminator.trainable = False\r\n",
        "ganInput = Input(shape=(randomDim,))\r\n",
        "x = generator(ganInput)\r\n",
        "ganOutput = discriminator(x)\r\n",
        "gan = Model(inputs=ganInput, outputs=ganOutput)\r\n",
        "gan.compile(loss='binary_crossentropy', optimizer=adam)\r\n",
        "\r\n",
        "dLosses = []\r\n",
        "gLosses = []"
      ],
      "execution_count": null,
      "outputs": []
    },
    {
      "cell_type": "code",
      "metadata": {
        "id": "kw21mq7P4RQ_"
      },
      "source": [
        "# Plot the loss from each batch\r\n",
        "def plotLoss(epoch):\r\n",
        "    plt.figure(figsize=(10, 8))\r\n",
        "    plt.plot(dLosses, label='Discriminitive loss')\r\n",
        "    plt.plot(gLosses, label='Generative loss')\r\n",
        "    plt.xlabel('Epoch')\r\n",
        "    plt.ylabel('Loss')\r\n",
        "    plt.legend()\r\n",
        "    plt.savefig('images/gan_loss_epoch_%d.png' % epoch)\r\n",
        "\r\n",
        "# Create a wall of generated MNIST images\r\n",
        "def saveGeneratedImages(epoch, examples=100, dim=(10, 10), figsize=(10, 10)):\r\n",
        "    noise = np.random.normal(0, 1, size=[examples, randomDim])\r\n",
        "    generatedImages = generator.predict(noise)\r\n",
        "    generatedImages = generatedImages.reshape(examples, 28, 28)\r\n",
        "\r\n",
        "    plt.figure(figsize=figsize)\r\n",
        "    for i in range(generatedImages.shape[0]):\r\n",
        "        plt.subplot(dim[0], dim[1], i+1)\r\n",
        "        plt.imshow(generatedImages[i], interpolation='nearest', cmap='gray_r')\r\n",
        "        plt.axis('off')\r\n",
        "    plt.tight_layout()\r\n",
        "    plt.savefig('images/gan_generated_image_epoch_%d.png' % epoch)"
      ],
      "execution_count": null,
      "outputs": []
    },
    {
      "cell_type": "code",
      "metadata": {
        "id": "Yqr0D33h4aRb"
      },
      "source": [
        "def train(epochs=1, batchSize=128):\r\n",
        "    batchCount = int(X_train.shape[0] / batchSize)\r\n",
        "    print ('Epochs:', epochs)\r\n",
        "    print ('Batch size:', batchSize)\r\n",
        "    print ('Batches per epoch:', batchCount)\r\n",
        "\r\n",
        "    for e in range(1, epochs+1):\r\n",
        "        print ('-'*15, 'Epoch %d' % e, '-'*15)\r\n",
        "        for _ in range(batchCount):\r\n",
        "            # Get a random set of input noise and images\r\n",
        "            noise = np.random.normal(0, 1, size=[batchSize, randomDim])\r\n",
        "            imageBatch = X_train[np.random.randint(0, X_train.shape[0], size=batchSize)]\r\n",
        "\r\n",
        "            # Generate fake MNIST images\r\n",
        "            generatedImages = generator.predict(noise)\r\n",
        "            # print np.shape(imageBatch), np.shape(generatedImages)\r\n",
        "            X = np.concatenate([imageBatch, generatedImages])\r\n",
        "\r\n",
        "            # Labels for generated and real data\r\n",
        "            yDis = np.zeros(2*batchSize)\r\n",
        "            # One-sided label smoothing\r\n",
        "            yDis[:batchSize] = 0.9 #for real image\r\n",
        "\r\n",
        "            # Train discriminator\r\n",
        "            discriminator.trainable = True\r\n",
        "            dloss = discriminator.train_on_batch(X, yDis) #Runs a single gradient update on a single batch of data.\r\n",
        "\r\n",
        "\r\n",
        "\r\n",
        "            # Train generator\r\n",
        "            noise = np.random.normal(0, 1, size=[batchSize, randomDim])\r\n",
        "            yGen = np.ones(batchSize)\r\n",
        "            discriminator.trainable = False\r\n",
        "            gloss = gan.train_on_batch(noise, yGen)\r\n",
        "\r\n",
        "        # Store loss of most recent batch from this epoch\r\n",
        "        dLosses.append(dloss)\r\n",
        "        gLosses.append(gloss)\r\n",
        "\r\n",
        "        # if e == 1 or e % 20 == 0:\r\n",
        "        #     saveGeneratedImages(e)\r\n",
        "            \r\n",
        "\r\n",
        "    # Plot losses from every epoch\r\n",
        "    # plotLoss(e)"
      ],
      "execution_count": null,
      "outputs": []
    },
    {
      "cell_type": "markdown",
      "metadata": {
        "id": "1Ts4yZm2r-GL"
      },
      "source": [
        "The trick to train the two is that we first train the discriminator separately; we use binary cross entropy loss for the discriminator. Later we freeze the weights of the discriminator and train the combined GAN; this results in the training of the generator. The loss this time is also binary cross entropy:"
      ]
    },
    {
      "cell_type": "code",
      "metadata": {
        "id": "JEUlTJ1cr-nn"
      },
      "source": [
        "# discriminator.compile(loss='binary_crossentropy', optimizer='adam')\r\n",
        "# gan.compile(loss='binary_crossentropy', optimizer='adam')"
      ],
      "execution_count": null,
      "outputs": []
    },
    {
      "cell_type": "markdown",
      "metadata": {
        "id": "yrT-rexfsIyd"
      },
      "source": [
        "Let us now perform the training. For each epoch we take a sample of random noise first, feed it to the generator, and the generator produces a fake image. We combine the generated fake images and the actual training images in a batch with their specific labels and use them to train the discriminator first on the given batch:"
      ]
    },
    {
      "cell_type": "code",
      "metadata": {
        "id": "fQ765_swv21l"
      },
      "source": [
        "imageBatch = X_train[np.random.randint(0, X_train.shape[0], size=128)]\r\n"
      ],
      "execution_count": null,
      "outputs": []
    },
    {
      "cell_type": "code",
      "metadata": {
        "colab": {
          "base_uri": "https://localhost:8080/"
        },
        "id": "C75HgZWWyX90",
        "outputId": "d06beced-7c7e-4fff-8920-d0599328a7a3"
      },
      "source": [
        "np.random.randint(0, X_train.shape[0], size=128)"
      ],
      "execution_count": null,
      "outputs": [
        {
          "output_type": "execute_result",
          "data": {
            "text/plain": [
              "array([56405, 52901, 34649, 28207, 43116, 40805, 15332, 40429, 20889,\n",
              "       36959, 39199, 30562, 27543, 33488,     4, 26320, 40519, 19662,\n",
              "       53475, 56165, 27178,  6146, 41969, 33705, 38300, 54428, 37200,\n",
              "       15768, 10334,  2655, 52164,  3683, 23200,  8127, 59672,  8197,\n",
              "       20179, 39406, 44685, 31556, 53172, 42198,  8074, 58270, 45073,\n",
              "       21618, 26835, 35222, 25904, 38055, 12509, 46717, 52658, 30754,\n",
              "       14905, 20085, 54685, 16121, 39875, 26712, 24418,  1532, 21651,\n",
              "       32040, 39900, 18533,  4123, 16828, 59625, 57278, 28610, 55808,\n",
              "       19294, 20743, 13692, 18231, 46543, 31858,   742, 39234, 22167,\n",
              "       57410, 39063, 21043, 29423, 14172, 36229,  1399, 13987, 25139,\n",
              "       53259, 40690, 12913, 43507, 11703, 13887, 57100, 18516, 55024,\n",
              "       38112, 52105, 26005, 24705, 33013, 41662,  5340,  7322, 50727,\n",
              "       56529, 25903, 19480, 49615, 13305, 41836, 54843, 59932, 34149,\n",
              "       23567, 55276, 44740, 14527, 16844, 49895, 10913, 27622, 29713,\n",
              "       52660, 42281])"
            ]
          },
          "metadata": {
            "tags": []
          },
          "execution_count": 10
        }
      ]
    },
    {
      "cell_type": "code",
      "metadata": {
        "id": "kkPWnYnKxRFg"
      },
      "source": [
        "#  X_train.shape[0]"
      ],
      "execution_count": null,
      "outputs": []
    },
    {
      "cell_type": "code",
      "metadata": {
        "id": "SetZLOBmv8zC"
      },
      "source": [
        "# imageBatch[0]"
      ],
      "execution_count": null,
      "outputs": []
    },
    {
      "cell_type": "code",
      "metadata": {
        "id": "tO3AN7Ia2RUX"
      },
      "source": [
        "# a = np.array([[1, 2], [3, 4]],[[1, 2], [3, 4]])#2*2*2\r\n",
        "# b = np.array([5, 6])\r\n",
        "# np.concatenate((a, b), axis=0)"
      ],
      "execution_count": null,
      "outputs": []
    },
    {
      "cell_type": "code",
      "metadata": {
        "colab": {
          "base_uri": "https://localhost:8080/"
        },
        "id": "g6bbSqdw2b_8",
        "outputId": "b3c21a5d-6c12-48ae-bf7c-b9cb56fdf7a3"
      },
      "source": [
        "28*28/128"
      ],
      "execution_count": null,
      "outputs": [
        {
          "output_type": "execute_result",
          "data": {
            "text/plain": [
              "6.125"
            ]
          },
          "metadata": {
            "tags": []
          },
          "execution_count": 14
        }
      ]
    },
    {
      "cell_type": "markdown",
      "metadata": {
        "id": "fXK9gT-Ishja"
      },
      "source": [
        "Now in the same for loop, we will train the generator. We want the images generated by the generator to be detected as real by the discriminator, so we use a random vector (noise) as input to the generator; this generates a fake image and then trains the GAN such that the discriminator perceives the image as real (output 1):"
      ]
    },
    {
      "cell_type": "markdown",
      "metadata": {
        "id": "J7eGTS0msrJG"
      },
      "source": [
        "Cool trick, right? If you wish to, you can save the generator and discriminator loss as well as the generated images. Next, we are saving the losses for each epoch and generating images after every 20 epochs:"
      ]
    },
    {
      "cell_type": "code",
      "metadata": {
        "colab": {
          "base_uri": "https://localhost:8080/"
        },
        "id": "DFCiJ_4LsJOI",
        "outputId": "e305a623-58e4-4344-c930-1a66d3ce48dc"
      },
      "source": [
        "train(400, 128)\r\n",
        "\r\n"
      ],
      "execution_count": null,
      "outputs": [
        {
          "output_type": "stream",
          "text": [
            "Epochs: 400\n",
            "Batch size: 128\n",
            "Batches per epoch: 468\n",
            "--------------- Epoch 1 ---------------\n",
            "--------------- Epoch 2 ---------------\n",
            "--------------- Epoch 3 ---------------\n",
            "--------------- Epoch 4 ---------------\n",
            "--------------- Epoch 5 ---------------\n",
            "--------------- Epoch 6 ---------------\n",
            "--------------- Epoch 7 ---------------\n",
            "--------------- Epoch 8 ---------------\n",
            "--------------- Epoch 9 ---------------\n",
            "--------------- Epoch 10 ---------------\n",
            "--------------- Epoch 11 ---------------\n",
            "--------------- Epoch 12 ---------------\n",
            "--------------- Epoch 13 ---------------\n",
            "--------------- Epoch 14 ---------------\n",
            "--------------- Epoch 15 ---------------\n",
            "--------------- Epoch 16 ---------------\n",
            "--------------- Epoch 17 ---------------\n",
            "--------------- Epoch 18 ---------------\n",
            "--------------- Epoch 19 ---------------\n",
            "--------------- Epoch 20 ---------------\n",
            "--------------- Epoch 21 ---------------\n",
            "--------------- Epoch 22 ---------------\n",
            "--------------- Epoch 23 ---------------\n",
            "--------------- Epoch 24 ---------------\n",
            "--------------- Epoch 25 ---------------\n",
            "--------------- Epoch 26 ---------------\n",
            "--------------- Epoch 27 ---------------\n",
            "--------------- Epoch 28 ---------------\n",
            "--------------- Epoch 29 ---------------\n",
            "--------------- Epoch 30 ---------------\n",
            "--------------- Epoch 31 ---------------\n",
            "--------------- Epoch 32 ---------------\n",
            "--------------- Epoch 33 ---------------\n",
            "--------------- Epoch 34 ---------------\n",
            "--------------- Epoch 35 ---------------\n",
            "--------------- Epoch 36 ---------------\n",
            "--------------- Epoch 37 ---------------\n",
            "--------------- Epoch 38 ---------------\n",
            "--------------- Epoch 39 ---------------\n",
            "--------------- Epoch 40 ---------------\n",
            "--------------- Epoch 41 ---------------\n",
            "--------------- Epoch 42 ---------------\n",
            "--------------- Epoch 43 ---------------\n",
            "--------------- Epoch 44 ---------------\n",
            "--------------- Epoch 45 ---------------\n",
            "--------------- Epoch 46 ---------------\n",
            "--------------- Epoch 47 ---------------\n",
            "--------------- Epoch 48 ---------------\n",
            "--------------- Epoch 49 ---------------\n",
            "--------------- Epoch 50 ---------------\n",
            "--------------- Epoch 51 ---------------\n",
            "--------------- Epoch 52 ---------------\n",
            "--------------- Epoch 53 ---------------\n",
            "--------------- Epoch 54 ---------------\n",
            "--------------- Epoch 55 ---------------\n",
            "--------------- Epoch 56 ---------------\n",
            "--------------- Epoch 57 ---------------\n",
            "--------------- Epoch 58 ---------------\n",
            "--------------- Epoch 59 ---------------\n",
            "--------------- Epoch 60 ---------------\n",
            "--------------- Epoch 61 ---------------\n",
            "--------------- Epoch 62 ---------------\n",
            "--------------- Epoch 63 ---------------\n",
            "--------------- Epoch 64 ---------------\n",
            "--------------- Epoch 65 ---------------\n",
            "--------------- Epoch 66 ---------------\n",
            "--------------- Epoch 67 ---------------\n",
            "--------------- Epoch 68 ---------------\n",
            "--------------- Epoch 69 ---------------\n",
            "--------------- Epoch 70 ---------------\n",
            "--------------- Epoch 71 ---------------\n",
            "--------------- Epoch 72 ---------------\n",
            "--------------- Epoch 73 ---------------\n",
            "--------------- Epoch 74 ---------------\n",
            "--------------- Epoch 75 ---------------\n",
            "--------------- Epoch 76 ---------------\n",
            "--------------- Epoch 77 ---------------\n",
            "--------------- Epoch 78 ---------------\n",
            "--------------- Epoch 79 ---------------\n",
            "--------------- Epoch 80 ---------------\n",
            "--------------- Epoch 81 ---------------\n",
            "--------------- Epoch 82 ---------------\n",
            "--------------- Epoch 83 ---------------\n",
            "--------------- Epoch 84 ---------------\n",
            "--------------- Epoch 85 ---------------\n",
            "--------------- Epoch 86 ---------------\n",
            "--------------- Epoch 87 ---------------\n",
            "--------------- Epoch 88 ---------------\n",
            "--------------- Epoch 89 ---------------\n",
            "--------------- Epoch 90 ---------------\n",
            "--------------- Epoch 91 ---------------\n",
            "--------------- Epoch 92 ---------------\n",
            "--------------- Epoch 93 ---------------\n",
            "--------------- Epoch 94 ---------------\n",
            "--------------- Epoch 95 ---------------\n",
            "--------------- Epoch 96 ---------------\n",
            "--------------- Epoch 97 ---------------\n",
            "--------------- Epoch 98 ---------------\n",
            "--------------- Epoch 99 ---------------\n",
            "--------------- Epoch 100 ---------------\n",
            "--------------- Epoch 101 ---------------\n",
            "--------------- Epoch 102 ---------------\n",
            "--------------- Epoch 103 ---------------\n",
            "--------------- Epoch 104 ---------------\n",
            "--------------- Epoch 105 ---------------\n",
            "--------------- Epoch 106 ---------------\n",
            "--------------- Epoch 107 ---------------\n",
            "--------------- Epoch 108 ---------------\n",
            "--------------- Epoch 109 ---------------\n",
            "--------------- Epoch 110 ---------------\n",
            "--------------- Epoch 111 ---------------\n",
            "--------------- Epoch 112 ---------------\n",
            "--------------- Epoch 113 ---------------\n",
            "--------------- Epoch 114 ---------------\n",
            "--------------- Epoch 115 ---------------\n",
            "--------------- Epoch 116 ---------------\n",
            "--------------- Epoch 117 ---------------\n",
            "--------------- Epoch 118 ---------------\n",
            "--------------- Epoch 119 ---------------\n",
            "--------------- Epoch 120 ---------------\n",
            "--------------- Epoch 121 ---------------\n",
            "--------------- Epoch 122 ---------------\n",
            "--------------- Epoch 123 ---------------\n",
            "--------------- Epoch 124 ---------------\n",
            "--------------- Epoch 125 ---------------\n",
            "--------------- Epoch 126 ---------------\n",
            "--------------- Epoch 127 ---------------\n",
            "--------------- Epoch 128 ---------------\n",
            "--------------- Epoch 129 ---------------\n",
            "--------------- Epoch 130 ---------------\n",
            "--------------- Epoch 131 ---------------\n",
            "--------------- Epoch 132 ---------------\n",
            "--------------- Epoch 133 ---------------\n",
            "--------------- Epoch 134 ---------------\n",
            "--------------- Epoch 135 ---------------\n",
            "--------------- Epoch 136 ---------------\n",
            "--------------- Epoch 137 ---------------\n",
            "--------------- Epoch 138 ---------------\n",
            "--------------- Epoch 139 ---------------\n",
            "--------------- Epoch 140 ---------------\n",
            "--------------- Epoch 141 ---------------\n",
            "--------------- Epoch 142 ---------------\n",
            "--------------- Epoch 143 ---------------\n",
            "--------------- Epoch 144 ---------------\n",
            "--------------- Epoch 145 ---------------\n",
            "--------------- Epoch 146 ---------------\n",
            "--------------- Epoch 147 ---------------\n",
            "--------------- Epoch 148 ---------------\n",
            "--------------- Epoch 149 ---------------\n",
            "--------------- Epoch 150 ---------------\n",
            "--------------- Epoch 151 ---------------\n",
            "--------------- Epoch 152 ---------------\n",
            "--------------- Epoch 153 ---------------\n",
            "--------------- Epoch 154 ---------------\n",
            "--------------- Epoch 155 ---------------\n",
            "--------------- Epoch 156 ---------------\n",
            "--------------- Epoch 157 ---------------\n",
            "--------------- Epoch 158 ---------------\n",
            "--------------- Epoch 159 ---------------\n",
            "--------------- Epoch 160 ---------------\n",
            "--------------- Epoch 161 ---------------\n",
            "--------------- Epoch 162 ---------------\n",
            "--------------- Epoch 163 ---------------\n",
            "--------------- Epoch 164 ---------------\n",
            "--------------- Epoch 165 ---------------\n",
            "--------------- Epoch 166 ---------------\n",
            "--------------- Epoch 167 ---------------\n",
            "--------------- Epoch 168 ---------------\n",
            "--------------- Epoch 169 ---------------\n",
            "--------------- Epoch 170 ---------------\n",
            "--------------- Epoch 171 ---------------\n",
            "--------------- Epoch 172 ---------------\n",
            "--------------- Epoch 173 ---------------\n",
            "--------------- Epoch 174 ---------------\n",
            "--------------- Epoch 175 ---------------\n",
            "--------------- Epoch 176 ---------------\n",
            "--------------- Epoch 177 ---------------\n",
            "--------------- Epoch 178 ---------------\n",
            "--------------- Epoch 179 ---------------\n",
            "--------------- Epoch 180 ---------------\n",
            "--------------- Epoch 181 ---------------\n",
            "--------------- Epoch 182 ---------------\n",
            "--------------- Epoch 183 ---------------\n",
            "--------------- Epoch 184 ---------------\n",
            "--------------- Epoch 185 ---------------\n",
            "--------------- Epoch 186 ---------------\n",
            "--------------- Epoch 187 ---------------\n",
            "--------------- Epoch 188 ---------------\n",
            "--------------- Epoch 189 ---------------\n",
            "--------------- Epoch 190 ---------------\n",
            "--------------- Epoch 191 ---------------\n",
            "--------------- Epoch 192 ---------------\n",
            "--------------- Epoch 193 ---------------\n",
            "--------------- Epoch 194 ---------------\n",
            "--------------- Epoch 195 ---------------\n",
            "--------------- Epoch 196 ---------------\n",
            "--------------- Epoch 197 ---------------\n",
            "--------------- Epoch 198 ---------------\n",
            "--------------- Epoch 199 ---------------\n",
            "--------------- Epoch 200 ---------------\n",
            "--------------- Epoch 201 ---------------\n",
            "--------------- Epoch 202 ---------------\n",
            "--------------- Epoch 203 ---------------\n",
            "--------------- Epoch 204 ---------------\n",
            "--------------- Epoch 205 ---------------\n",
            "--------------- Epoch 206 ---------------\n",
            "--------------- Epoch 207 ---------------\n",
            "--------------- Epoch 208 ---------------\n",
            "--------------- Epoch 209 ---------------\n",
            "--------------- Epoch 210 ---------------\n",
            "--------------- Epoch 211 ---------------\n",
            "--------------- Epoch 212 ---------------\n",
            "--------------- Epoch 213 ---------------\n",
            "--------------- Epoch 214 ---------------\n",
            "--------------- Epoch 215 ---------------\n",
            "--------------- Epoch 216 ---------------\n",
            "--------------- Epoch 217 ---------------\n",
            "--------------- Epoch 218 ---------------\n",
            "--------------- Epoch 219 ---------------\n",
            "--------------- Epoch 220 ---------------\n",
            "--------------- Epoch 221 ---------------\n",
            "--------------- Epoch 222 ---------------\n",
            "--------------- Epoch 223 ---------------\n",
            "--------------- Epoch 224 ---------------\n",
            "--------------- Epoch 225 ---------------\n",
            "--------------- Epoch 226 ---------------\n",
            "--------------- Epoch 227 ---------------\n",
            "--------------- Epoch 228 ---------------\n",
            "--------------- Epoch 229 ---------------\n",
            "--------------- Epoch 230 ---------------\n",
            "--------------- Epoch 231 ---------------\n",
            "--------------- Epoch 232 ---------------\n",
            "--------------- Epoch 233 ---------------\n",
            "--------------- Epoch 234 ---------------\n",
            "--------------- Epoch 235 ---------------\n",
            "--------------- Epoch 236 ---------------\n",
            "--------------- Epoch 237 ---------------\n",
            "--------------- Epoch 238 ---------------\n",
            "--------------- Epoch 239 ---------------\n",
            "--------------- Epoch 240 ---------------\n",
            "--------------- Epoch 241 ---------------\n",
            "--------------- Epoch 242 ---------------\n",
            "--------------- Epoch 243 ---------------\n",
            "--------------- Epoch 244 ---------------\n",
            "--------------- Epoch 245 ---------------\n",
            "--------------- Epoch 246 ---------------\n",
            "--------------- Epoch 247 ---------------\n",
            "--------------- Epoch 248 ---------------\n",
            "--------------- Epoch 249 ---------------\n",
            "--------------- Epoch 250 ---------------\n",
            "--------------- Epoch 251 ---------------\n",
            "--------------- Epoch 252 ---------------\n",
            "--------------- Epoch 253 ---------------\n",
            "--------------- Epoch 254 ---------------\n",
            "--------------- Epoch 255 ---------------\n",
            "--------------- Epoch 256 ---------------\n",
            "--------------- Epoch 257 ---------------\n",
            "--------------- Epoch 258 ---------------\n",
            "--------------- Epoch 259 ---------------\n",
            "--------------- Epoch 260 ---------------\n",
            "--------------- Epoch 261 ---------------\n",
            "--------------- Epoch 262 ---------------\n",
            "--------------- Epoch 263 ---------------\n",
            "--------------- Epoch 264 ---------------\n",
            "--------------- Epoch 265 ---------------\n",
            "--------------- Epoch 266 ---------------\n",
            "--------------- Epoch 267 ---------------\n",
            "--------------- Epoch 268 ---------------\n",
            "--------------- Epoch 269 ---------------\n",
            "--------------- Epoch 270 ---------------\n",
            "--------------- Epoch 271 ---------------\n",
            "--------------- Epoch 272 ---------------\n",
            "--------------- Epoch 273 ---------------\n",
            "--------------- Epoch 274 ---------------\n",
            "--------------- Epoch 275 ---------------\n",
            "--------------- Epoch 276 ---------------\n",
            "--------------- Epoch 277 ---------------\n",
            "--------------- Epoch 278 ---------------\n",
            "--------------- Epoch 279 ---------------\n",
            "--------------- Epoch 280 ---------------\n",
            "--------------- Epoch 281 ---------------\n",
            "--------------- Epoch 282 ---------------\n",
            "--------------- Epoch 283 ---------------\n",
            "--------------- Epoch 284 ---------------\n",
            "--------------- Epoch 285 ---------------\n",
            "--------------- Epoch 286 ---------------\n",
            "--------------- Epoch 287 ---------------\n",
            "--------------- Epoch 288 ---------------\n",
            "--------------- Epoch 289 ---------------\n",
            "--------------- Epoch 290 ---------------\n",
            "--------------- Epoch 291 ---------------\n",
            "--------------- Epoch 292 ---------------\n",
            "--------------- Epoch 293 ---------------\n",
            "--------------- Epoch 294 ---------------\n",
            "--------------- Epoch 295 ---------------\n",
            "--------------- Epoch 296 ---------------\n",
            "--------------- Epoch 297 ---------------\n",
            "--------------- Epoch 298 ---------------\n",
            "--------------- Epoch 299 ---------------\n",
            "--------------- Epoch 300 ---------------\n",
            "--------------- Epoch 301 ---------------\n",
            "--------------- Epoch 302 ---------------\n",
            "--------------- Epoch 303 ---------------\n",
            "--------------- Epoch 304 ---------------\n",
            "--------------- Epoch 305 ---------------\n",
            "--------------- Epoch 306 ---------------\n",
            "--------------- Epoch 307 ---------------\n",
            "--------------- Epoch 308 ---------------\n",
            "--------------- Epoch 309 ---------------\n",
            "--------------- Epoch 310 ---------------\n",
            "--------------- Epoch 311 ---------------\n",
            "--------------- Epoch 312 ---------------\n",
            "--------------- Epoch 313 ---------------\n",
            "--------------- Epoch 314 ---------------\n",
            "--------------- Epoch 315 ---------------\n",
            "--------------- Epoch 316 ---------------\n",
            "--------------- Epoch 317 ---------------\n",
            "--------------- Epoch 318 ---------------\n",
            "--------------- Epoch 319 ---------------\n",
            "--------------- Epoch 320 ---------------\n",
            "--------------- Epoch 321 ---------------\n",
            "--------------- Epoch 322 ---------------\n",
            "--------------- Epoch 323 ---------------\n",
            "--------------- Epoch 324 ---------------\n",
            "--------------- Epoch 325 ---------------\n",
            "--------------- Epoch 326 ---------------\n",
            "--------------- Epoch 327 ---------------\n",
            "--------------- Epoch 328 ---------------\n",
            "--------------- Epoch 329 ---------------\n",
            "--------------- Epoch 330 ---------------\n",
            "--------------- Epoch 331 ---------------\n",
            "--------------- Epoch 332 ---------------\n",
            "--------------- Epoch 333 ---------------\n",
            "--------------- Epoch 334 ---------------\n",
            "--------------- Epoch 335 ---------------\n",
            "--------------- Epoch 336 ---------------\n",
            "--------------- Epoch 337 ---------------\n",
            "--------------- Epoch 338 ---------------\n",
            "--------------- Epoch 339 ---------------\n",
            "--------------- Epoch 340 ---------------\n",
            "--------------- Epoch 341 ---------------\n",
            "--------------- Epoch 342 ---------------\n",
            "--------------- Epoch 343 ---------------\n",
            "--------------- Epoch 344 ---------------\n",
            "--------------- Epoch 345 ---------------\n",
            "--------------- Epoch 346 ---------------\n",
            "--------------- Epoch 347 ---------------\n",
            "--------------- Epoch 348 ---------------\n",
            "--------------- Epoch 349 ---------------\n",
            "--------------- Epoch 350 ---------------\n",
            "--------------- Epoch 351 ---------------\n",
            "--------------- Epoch 352 ---------------\n",
            "--------------- Epoch 353 ---------------\n",
            "--------------- Epoch 354 ---------------\n",
            "--------------- Epoch 355 ---------------\n",
            "--------------- Epoch 356 ---------------\n",
            "--------------- Epoch 357 ---------------\n",
            "--------------- Epoch 358 ---------------\n",
            "--------------- Epoch 359 ---------------\n",
            "--------------- Epoch 360 ---------------\n",
            "--------------- Epoch 361 ---------------\n",
            "--------------- Epoch 362 ---------------\n",
            "--------------- Epoch 363 ---------------\n",
            "--------------- Epoch 364 ---------------\n",
            "--------------- Epoch 365 ---------------\n",
            "--------------- Epoch 366 ---------------\n",
            "--------------- Epoch 367 ---------------\n",
            "--------------- Epoch 368 ---------------\n",
            "--------------- Epoch 369 ---------------\n",
            "--------------- Epoch 370 ---------------\n",
            "--------------- Epoch 371 ---------------\n",
            "--------------- Epoch 372 ---------------\n",
            "--------------- Epoch 373 ---------------\n",
            "--------------- Epoch 374 ---------------\n",
            "--------------- Epoch 375 ---------------\n",
            "--------------- Epoch 376 ---------------\n",
            "--------------- Epoch 377 ---------------\n",
            "--------------- Epoch 378 ---------------\n",
            "--------------- Epoch 379 ---------------\n",
            "--------------- Epoch 380 ---------------\n",
            "--------------- Epoch 381 ---------------\n",
            "--------------- Epoch 382 ---------------\n",
            "--------------- Epoch 383 ---------------\n",
            "--------------- Epoch 384 ---------------\n",
            "--------------- Epoch 385 ---------------\n",
            "--------------- Epoch 386 ---------------\n",
            "--------------- Epoch 387 ---------------\n",
            "--------------- Epoch 388 ---------------\n",
            "--------------- Epoch 389 ---------------\n",
            "--------------- Epoch 390 ---------------\n",
            "--------------- Epoch 391 ---------------\n",
            "--------------- Epoch 392 ---------------\n",
            "--------------- Epoch 393 ---------------\n",
            "--------------- Epoch 394 ---------------\n",
            "--------------- Epoch 395 ---------------\n",
            "--------------- Epoch 396 ---------------\n",
            "--------------- Epoch 397 ---------------\n",
            "--------------- Epoch 398 ---------------\n",
            "--------------- Epoch 399 ---------------\n",
            "--------------- Epoch 400 ---------------\n"
          ],
          "name": "stdout"
        }
      ]
    },
    {
      "cell_type": "code",
      "metadata": {
        "id": "ZMI1kYODr_74",
        "colab": {
          "base_uri": "https://localhost:8080/",
          "height": 609
        },
        "outputId": "9efa214f-7503-4e3f-8358-e2cd578ef8d6"
      },
      "source": [
        "generator.save(\"vanillaGAN.h5\")\r\n",
        "examples=100\r\n",
        "noise = np.random.normal(0, 1, size=[examples, randomDim])\r\n",
        "generatedImages = generator.predict(noise)\r\n",
        "generatedImages = generatedImages.reshape(examples, 28, 28)\r\n",
        "figsize=(10, 10)\r\n",
        "plt.figure(figsize=figsize)\r\n",
        "   \r\n",
        "plt.imshow(generatedImages[6], interpolation='nearest', cmap='gray_r')\r\n",
        "   "
      ],
      "execution_count": null,
      "outputs": [
        {
          "output_type": "execute_result",
          "data": {
            "text/plain": [
              "<matplotlib.image.AxesImage at 0x7f150b20fcf8>"
            ]
          },
          "metadata": {
            "tags": []
          },
          "execution_count": 16
        },
        {
          "output_type": "display_data",
          "data": {
            "image/png": "[encoded data removed]",
            "text/plain": [
              "<Figure size 720x720 with 1 Axes>"
            ]
          },
          "metadata": {
            "tags": [],
            "needs_background": "light"
          }
        }
      ]
    },
    {
      "cell_type": "code",
      "metadata": {
        "colab": {
          "base_uri": "https://localhost:8080/",
          "height": 609
        },
        "id": "C3ACYkS65whg",
        "outputId": "415a908f-8c33-4453-e045-4ea639c6e922"
      },
      "source": [
        "noise = np.random.normal(0, 1, size=[examples, randomDim])\r\n",
        "generatedImages = generator.predict(noise)\r\n",
        "generatedImages = generatedImages.reshape(examples, 28, 28)\r\n",
        "figsize=(10, 10)\r\n",
        "plt.figure(figsize=figsize)\r\n",
        "   \r\n",
        "plt.imshow(generatedImages[6], interpolation='nearest', cmap='gray_r')"
      ],
      "execution_count": null,
      "outputs": [
        {
          "output_type": "execute_result",
          "data": {
            "text/plain": [
              "<matplotlib.image.AxesImage at 0x7f150aef0e80>"
            ]
          },
          "metadata": {
            "tags": []
          },
          "execution_count": 18
        },
        {
          "output_type": "display_data",
          "data": {
            "image/png": "[encoded data removed]",
            "text/plain": [
              "<Figure size 720x720 with 1 Axes>"
            ]
          },
          "metadata": {
            "tags": [],
            "needs_background": "light"
          }
        }
      ]
    }
  ]
}